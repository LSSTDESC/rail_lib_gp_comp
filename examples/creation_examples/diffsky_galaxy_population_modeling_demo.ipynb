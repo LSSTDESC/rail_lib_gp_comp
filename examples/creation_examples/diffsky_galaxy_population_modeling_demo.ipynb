{
 "cells": [
  {
   "cell_type": "markdown",
   "metadata": {},
   "source": [
    "# Demo pipeline for generating mock galaxy samples with LSST-like photometry\n",
    "\n",
    "author: Luca Tortorelli\n",
    "\n",
    "last run successfully: Oct 19, 2023\n",
    "\n",
    "This notebook demonstrates some basic usage of the `rail_lib_gp_comp` package. We use this package and others implemented in RAIL to create a small pipeline that:\n",
    "- Samples galaxy physical properties from the diffsky/skysim galaxy population model.\n",
    "- Generates rest-frame SEDs with rail_dsps for each galaxy based on their sampled physical properties.\n",
    "- Computes model apparent magnitudes for the LSST bands from the rest-frame SEDs.\n",
    "- Degrades the model apparent magnitudes into LSST-like observed apparent magnitudes using the LSSTErrorModel."
   ]
  },
  {
   "cell_type": "markdown",
   "metadata": {},
   "source": [
    "#### Sampling the population parameters from the diffsky/skysim model"
   ]
  },
  {
   "cell_type": "markdown",
   "metadata": {},
   "source": [
    "The `rail_lib_gp_comp` package contains in the `examples_data` folder a diffsky/skysim v3.1.0 input catalog in parquet format constituted of 10k sources selected having LSST_obs_i<=24.1 (LSST Y1 gold sample cut). Sampling the population parameters with the class `DiffskyGalaxyPopulationModeler` is equivalent, in this case, from reading the parameters necessary to the `diffstar` and `diffmah` packages to create galaxy star-formation histories.\n",
    "\n",
    "For other galaxy population models, the `GalaxyPopulationModeler` class will sample the population parameters from e.g. a prior distribution."
   ]
  },
  {
   "cell_type": "code",
   "execution_count": 1,
   "metadata": {
    "ExecuteTime": {
     "end_time": "2023-10-19T08:13:03.298991Z",
     "start_time": "2023-10-19T08:13:03.195596Z"
    }
   },
   "outputs": [
    {
     "ename": "ModuleNotFoundError",
     "evalue": "No module named 'rail_lib_gp_comp'",
     "output_type": "error",
     "traceback": [
      "\u001b[0;31m---------------------------------------------------------------------------\u001b[0m",
      "\u001b[0;31mModuleNotFoundError\u001b[0m                       Traceback (most recent call last)",
      "Cell \u001b[0;32mIn[1], line 2\u001b[0m\n\u001b[1;32m      1\u001b[0m \u001b[38;5;28;01mimport\u001b[39;00m \u001b[38;5;21;01mos\u001b[39;00m\n\u001b[0;32m----> 2\u001b[0m \u001b[38;5;28;01mfrom\u001b[39;00m \u001b[38;5;21;01mrail_lib_gp_comp\u001b[39;00m\u001b[38;5;21;01m.\u001b[39;00m\u001b[38;5;21;01msrc\u001b[39;00m\u001b[38;5;21;01m.\u001b[39;00m\u001b[38;5;21;01mrail\u001b[39;00m\u001b[38;5;21;01m.\u001b[39;00m\u001b[38;5;21;01mcreation\u001b[39;00m\u001b[38;5;21;01m.\u001b[39;00m\u001b[38;5;21;01mengines\u001b[39;00m\u001b[38;5;21;01m.\u001b[39;00m\u001b[38;5;21;01mgalaxy_population_components_modeler\u001b[39;00m \u001b[38;5;28;01mimport\u001b[39;00m DiffskyGalaxyPopulationModeler\n\u001b[1;32m      3\u001b[0m \u001b[38;5;28;01mfrom\u001b[39;00m \u001b[38;5;21;01mrail\u001b[39;00m\u001b[38;5;21;01m.\u001b[39;00m\u001b[38;5;21;01mcore\u001b[39;00m\u001b[38;5;21;01m.\u001b[39;00m\u001b[38;5;21;01mstage\u001b[39;00m \u001b[38;5;28;01mimport\u001b[39;00m RailStage\n\u001b[1;32m      4\u001b[0m \u001b[38;5;28;01mfrom\u001b[39;00m \u001b[38;5;21;01mrail\u001b[39;00m\u001b[38;5;21;01m.\u001b[39;00m\u001b[38;5;21;01mcore\u001b[39;00m\u001b[38;5;21;01m.\u001b[39;00m\u001b[38;5;21;01mdata\u001b[39;00m \u001b[38;5;28;01mimport\u001b[39;00m TableHandle\n",
      "\u001b[0;31mModuleNotFoundError\u001b[0m: No module named 'rail_lib_gp_comp'"
     ]
    }
   ],
   "source": [
    "import os\n",
    "from rail_lib_gp_comp.src.rail.creation.engines.galaxy_population_components_modeler import DiffskyGalaxyPopulationModeler\n",
    "from rail.core.stage import RailStage\n",
    "from rail.core.data import TableHandle"
   ]
  },
  {
   "cell_type": "code",
   "execution_count": 2,
   "metadata": {},
   "outputs": [],
   "source": [
    "import rail.lib_gp_comp"
   ]
  },
  {
   "cell_type": "code",
   "execution_count": 3,
   "metadata": {},
   "outputs": [
    {
     "data": {
      "text/plain": [
       "'/Users/Luca.Tortorelli/munich_postdoc/LSST/rail_lib_gp_comp/src/rail/lib_gp_comp/__init__.py'"
      ]
     },
     "execution_count": 3,
     "metadata": {},
     "output_type": "execute_result"
    }
   ],
   "source": [
    "rail.lib_gp_comp.__file__"
   ]
  },
  {
   "cell_type": "code",
   "execution_count": 4,
   "metadata": {},
   "outputs": [
    {
     "ename": "ModuleNotFoundError",
     "evalue": "No module named 'rail.creation.engines.galaxy_population_components_modeler'",
     "output_type": "error",
     "traceback": [
      "\u001b[0;31m---------------------------------------------------------------------------\u001b[0m",
      "\u001b[0;31mModuleNotFoundError\u001b[0m                       Traceback (most recent call last)",
      "Cell \u001b[0;32mIn[4], line 1\u001b[0m\n\u001b[0;32m----> 1\u001b[0m \u001b[38;5;28;01mfrom\u001b[39;00m \u001b[38;5;21;01mrail\u001b[39;00m\u001b[38;5;21;01m.\u001b[39;00m\u001b[38;5;21;01mcreation\u001b[39;00m\u001b[38;5;21;01m.\u001b[39;00m\u001b[38;5;21;01mengines\u001b[39;00m\u001b[38;5;21;01m.\u001b[39;00m\u001b[38;5;21;01mgalaxy_population_components_modeler\u001b[39;00m \u001b[38;5;28;01mimport\u001b[39;00m DiffskyGalaxyPopulationModeler\n",
      "\u001b[0;31mModuleNotFoundError\u001b[0m: No module named 'rail.creation.engines.galaxy_population_components_modeler'"
     ]
    }
   ],
   "source": [
    "from rail.creation.engines.galaxy_population_components_modeler import DiffskyGalaxyPopulationModeler"
   ]
  },
  {
   "cell_type": "code",
   "execution_count": null,
   "metadata": {},
   "outputs": [],
   "source": []
  }
 ],
 "metadata": {
  "kernelspec": {
   "display_name": "Python 3 (ipykernel)",
   "language": "python",
   "name": "python3"
  },
  "language_info": {
   "codemirror_mode": {
    "name": "ipython",
    "version": 3
   },
   "file_extension": ".py",
   "mimetype": "text/x-python",
   "name": "python",
   "nbconvert_exporter": "python",
   "pygments_lexer": "ipython3",
   "version": "3.11.4"
  }
 },
 "nbformat": 4,
 "nbformat_minor": 1
}
