{
 "cells": [
  {
   "cell_type": "markdown",
   "metadata": {},
   "source": [
    "# Demo pipeline for generating mock galaxy samples with LSST-like photometry\n",
    "\n",
    "author: Luca Tortorelli\n",
    "\n",
    "last run successfully: Oct 19, 2023\n",
    "\n",
    "This notebook demonstrates some basic usage of the `rail_lib_gp_comp` package. We use this package and others implemented in RAIL to create a small pipeline that:\n",
    "- Samples galaxy physical properties from the diffsky/skysim galaxy population model.\n",
    "- Generates rest-frame SEDs with rail_dsps for each galaxy based on their sampled physical properties.\n",
    "- Computes model apparent magnitudes for the LSST bands from the rest-frame SEDs.\n",
    "- Degrades the model apparent magnitudes into LSST-like observed apparent magnitudes using the LSSTErrorModel.\n",
    "\n",
    "This pipeline allows the user to obtain catalogs of galaxies with physical properties, mock LSST-like photometry and rest-frame SEDs."
   ]
  },
  {
   "cell_type": "markdown",
   "metadata": {},
   "source": [
    "#### Generating the population parameters from the diffsky/skysim model"
   ]
  },
  {
   "cell_type": "markdown",
   "metadata": {},
   "source": [
    "The `rail_lib_gp_comp` package contains in the `examples_data` folder a diffsky/skysim v3.1.0 input catalog in parquet format constituted of 10k sources selected having LSST_obs_i<=24.1 (LSST Y1 gold sample cut). Generating the population parameters with the class `DiffskyGalaxyPopulationModeler` is equivalent, in this case, from reading the parameters necessary to the `diffstar` and `diffmah` packages to create galaxy star-formation histories.\n",
    "\n",
    "For other galaxy population models, the `GalaxyPopulationModeler` class will generate the population parameters from e.g. a prior distribution.\n",
    "\n",
    "The output of this piece of the pipeline is an hdf5 table containing the population parameters, as well as redshifts, metallicity means and scatters. For other galaxy population models, this would be an hdf5 table containing only population parameters drawn from a prior."
   ]
  },
  {
   "cell_type": "code",
   "execution_count": null,
   "metadata": {
    "ExecuteTime": {
     "end_time": "2023-10-19T08:13:03.298991Z",
     "start_time": "2023-10-19T08:13:03.195596Z"
    }
   },
   "outputs": [],
   "source": [
    "import os\n",
    "from rail.creation.engines.galaxy_population_components_modeler import DiffskyGalaxyPopulationModeler\n",
    "import rail.lib_gp_comp\n",
    "from rail.core.stage import RailStage\n",
    "from rail.core.data import TableHandle"
   ]
  },
  {
   "cell_type": "code",
   "execution_count": null,
   "metadata": {},
   "outputs": [],
   "source": [
    "DS = RailStage.data_store\n",
    "DS.__class__.allow_overwrite = True"
   ]
  },
  {
   "cell_type": "code",
   "execution_count": null,
   "metadata": {},
   "outputs": [],
   "source": [
    "RAIL_LIB_GP_COMP_DIR = os.path.abspath(os.path.join(os.path.dirname(rail.lib_gp_comp.__file__), '..'))\n",
    "default_files_folder = os.path.join(RAIL_LIB_GP_COMP_DIR, 'examples_data', 'creation_data', 'data')\n",
    "trainFile = os.path.join(default_files_folder, 'skysim_v3.1.0_10k_lssty1cut.pq')"
   ]
  },
  {
   "cell_type": "code",
   "execution_count": null,
   "metadata": {},
   "outputs": [],
   "source": [
    "training_data = DS.read_file(\"training_data\", TableHandle, trainFile)"
   ]
  },
  {
   "cell_type": "code",
   "execution_count": null,
   "metadata": {},
   "outputs": [],
   "source": [
    "diffskygalaxypopulationmodeler = DiffskyGalaxyPopulationModeler.make_stage(name='DiffskyGalaxyPopulationModeler',\n",
    "                                                                 diffmah_keys=[\"diffmah_logmp_fit\", \"diffmah_mah_logtc\",\n",
    "                                                                               \"diffmah_early_index\", \"diffmah_late_index\"],\n",
    "                                                                 diffstar_ms_keys=['diffstar_u_lgmcrit', 'diffstar_u_lgy_at_mcrit',\n",
    "                                                                                   'diffstar_u_indx_lo', 'diffstar_u_indx_hi',\n",
    "                                                                                   'diffstar_u_tau_dep'],\n",
    "                                                                 diffstar_q_keys=['diffstar_u_qt', 'diffstar_u_qs', 'diffstar_u_q_drop',\n",
    "                                                                                  'diffstar_u_q_rejuv'],\n",
    "                                                                 catalog_redshift_key='redshift',\n",
    "                                                                 catalog_metallicity_key='lg_met_mean',\n",
    "                                                                 catalog_metallicity_scatter_key='lg_met_scatter')"
   ]
  },
  {
   "cell_type": "code",
   "execution_count": null,
   "metadata": {},
   "outputs": [],
   "source": [
    "diffskygalaxypopulationmodel = diffskygalaxypopulationmodeler.fit_model(input_data=training_data)"
   ]
  },
  {
   "cell_type": "code",
   "execution_count": null,
   "metadata": {},
   "outputs": [],
   "source": [
    "diffskygalaxypopulationmodel.data"
   ]
  },
  {
   "cell_type": "markdown",
   "metadata": {},
   "source": [
    "#### Sampling galaxy properties from the population parameters"
   ]
  },
  {
   "cell_type": "markdown",
   "metadata": {},
   "source": [
    "This class creates an input catalog of galaxy physical properties using the population parameters sampled from the prior. For instance, if we sample luminosity function M* and phi*, then this class would return the actual galaxy luminosities and redshifts from a luminosity function having parameters drawn from the prior.\n",
    "\n",
    "In this case, the population parameters drawn from the diffsky/skysim model are used by `diffmah` and `diffstar` to generate galaxy star-formation and stellar mass histories, as well as stellar mass and star-formation rates at the time of observation. These properties are stored together with redshifts, stellar metallicity means and scatters into an hdf5 table."
   ]
  },
  {
   "cell_type": "code",
   "execution_count": null,
   "metadata": {},
   "outputs": [],
   "source": [
    "from rail.creation.engines.galaxy_population_components_creator import DiffskyGalaxyPopulationCreator\n",
    "from diffstar.defaults import DEFAULT_N_STEPS, LGT0, FB, T_BIRTH_MIN\n",
    "from dsps.constants import T_TABLE_MIN\n",
    "from dsps.cosmology import DEFAULT_COSMOLOGY\n",
    "from rail.core.data import Hdf5Handle"
   ]
  },
  {
   "cell_type": "code",
   "execution_count": null,
   "metadata": {},
   "outputs": [],
   "source": [
    "trainFile = 'model_DiffskyGalaxyPopulationModeler.hdf5'"
   ]
  },
  {
   "cell_type": "code",
   "execution_count": null,
   "metadata": {},
   "outputs": [],
   "source": [
    "training_data = DS.read_file(\"training_data\", Hdf5Handle, trainFile)"
   ]
  },
  {
   "cell_type": "code",
   "execution_count": null,
   "metadata": {},
   "outputs": [],
   "source": [
    "diffskygalaxypopulationcreator = DiffskyGalaxyPopulationCreator.make_stage(name='DiffskyGalaxyPopulationCreator',\n",
    "                                                                           log10_age_universe=LGT0,\n",
    "                                                                           cosmic_baryon_fraction=FB,\n",
    "                                                                           t_min_table=T_TABLE_MIN,\n",
    "                                                                           t_max_table=10 ** LGT0,\n",
    "                                                                           n_time_steps=DEFAULT_N_STEPS,\n",
    "                                                                           tacc_integration_min=T_BIRTH_MIN,\n",
    "                                                                           cosmology_parameters=DEFAULT_COSMOLOGY,\n",
    "                                                                           catalog_redshift_key='redshift',\n",
    "                                                                           catalog_metallicity_key='lg_met_mean',\n",
    "                                                                           catalog_metallicity_scatter_key='lg_met_scatter',\n",
    "                                                                           cosmic_time_grid_key='cosmic_time_grid',\n",
    "                                                                           star_formation_history_key='star_formation_history',\n",
    "                                                                           star_formation_rate_key='star_formation_rate',\n",
    "                                                                           stellar_mass_history_key='stellar_mass_history',\n",
    "                                                                           stellar_mass_key='stellar_mass')"
   ]
  },
  {
   "cell_type": "code",
   "execution_count": null,
   "metadata": {},
   "outputs": [],
   "source": [
    "diffskygalaxypopulationproperties = diffskygalaxypopulationcreator.sample(input_data=training_data)"
   ]
  },
  {
   "cell_type": "code",
   "execution_count": null,
   "metadata": {},
   "outputs": [],
   "source": [
    "diffskygalaxypopulationproperties.data"
   ]
  },
  {
   "cell_type": "markdown",
   "metadata": {},
   "source": [
    "#### Generating rest-frame SEDs from galaxy properties using rail_dsps"
   ]
  },
  {
   "cell_type": "markdown",
   "metadata": {},
   "source": [
    "The two previous piece of the pipeline constitute the input data for `rail_dsps`. This package is an interface in RAIL to DSPS (Hearin+22). In particular, the star-formation histories, the redshifts and the stellar metallicities are used to generate the corresponding rest-frame SED of each galaxy at the time of observation.\n",
    "\n",
    "The output is again an hdf5 table storing the rest-frame SEDs and the galaxy redshifts."
   ]
  },
  {
   "cell_type": "code",
   "execution_count": null,
   "metadata": {},
   "outputs": [],
   "source": [
    "from rail.creation.engines.dsps_sed_modeler import DSPSSingleSedModeler"
   ]
  },
  {
   "cell_type": "code",
   "execution_count": null,
   "metadata": {},
   "outputs": [],
   "source": [
    "trainFile = 'output_DiffskyGalaxyPopulationCreator.hdf5'\n",
    "training_data = DS.read_file(\"training_data\", TableHandle, trainFile)"
   ]
  },
  {
   "cell_type": "code",
   "execution_count": null,
   "metadata": {},
   "outputs": [],
   "source": [
    "dspssinglesedmodeler = DSPSSingleSedModeler.make_stage(name='DSPSSingleSedModeler', \n",
    "                                                       ssp_templates_file='ssp_data_fsps_v3.2_lgmet_age.h5',\n",
    "                                                       redshift_key='redshift',\n",
    "                                                       cosmic_time_grid_key='cosmic_time_grid',\n",
    "                                                       star_formation_history_key='star_formation_history',\n",
    "                                                       stellar_metallicity_key='lg_met_mean',\n",
    "                                                       stellar_metallicity_scatter_key='lg_met_scatter')"
   ]
  },
  {
   "cell_type": "code",
   "execution_count": null,
   "metadata": {},
   "outputs": [],
   "source": [
    "dspssinglesedmodel = dspssinglesedmodeler.fit_model(input_data=training_data)"
   ]
  },
  {
   "cell_type": "code",
   "execution_count": null,
   "metadata": {},
   "outputs": [],
   "source": [
    "dspssinglesedmodel.data"
   ]
  },
  {
   "cell_type": "markdown",
   "metadata": {},
   "source": [
    "#### Computing model apparent magnitudes in the LSST bands"
   ]
  },
  {
   "cell_type": "markdown",
   "metadata": {},
   "source": [
    "Using `rail_dsps` and the generated rest-frame SEDs, we can compute the model apparent magnitudes and absolute magnitudes for the LSST filters. The output is stored into an hdf5 table."
   ]
  },
  {
   "cell_type": "code",
   "execution_count": null,
   "metadata": {},
   "outputs": [],
   "source": [
    "import rail.dsps\n",
    "from rail.creation.engines.dsps_photometry_creator import DSPSPhotometryCreator"
   ]
  },
  {
   "cell_type": "code",
   "execution_count": null,
   "metadata": {},
   "outputs": [],
   "source": [
    "trainFile = 'model_DSPSSingleSedModeler.hdf5'"
   ]
  },
  {
   "cell_type": "code",
   "execution_count": null,
   "metadata": {},
   "outputs": [],
   "source": [
    "training_data = DS.read_file(\"training_data\", TableHandle, trainFile)"
   ]
  },
  {
   "cell_type": "code",
   "execution_count": null,
   "metadata": {},
   "outputs": [],
   "source": [
    "RAIL_DSPS_DIR = os.path.abspath(os.path.join(os.path.dirname(rail.dsps.__file__), '..'))\n",
    "default_files_folder = os.path.join(RAIL_DSPS_DIR, \n",
    "                                    'examples_data/creation_data/data/dsps_default_data')"
   ]
  },
  {
   "cell_type": "code",
   "execution_count": null,
   "metadata": {},
   "outputs": [],
   "source": [
    "dspsphotometrycreator = DSPSPhotometryCreator.make_stage(name='DSPSPhotometryCreator',\n",
    "                                                         redshift_key='redshift',\n",
    "                                                         restframe_sed_key='restframe_sed',\n",
    "                                                         absolute_mags_key='rest_frame_absolute_mags',\n",
    "                                                         apparent_mags_key='apparent_mags',\n",
    "                                                         filter_folder=os.path.join(default_files_folder, 'filters'),\n",
    "                                                         instrument_name='lsst',\n",
    "                                                         wavebands='u,g,r,i,z,y',\n",
    "                                                         ssp_templates_file=os.path.join(default_files_folder,'ssp_data_fsps_v3.2_lgmet_age.h5'),\n",
    "                                                         default_cosmology=True)"
   ]
  },
  {
   "cell_type": "code",
   "execution_count": null,
   "metadata": {},
   "outputs": [],
   "source": [
    "dspsphotometry = dspsphotometrycreator.sample(input_data=training_data)"
   ]
  },
  {
   "cell_type": "code",
   "execution_count": null,
   "metadata": {},
   "outputs": [],
   "source": [
    "dspsphotometry.data"
   ]
  },
  {
   "cell_type": "markdown",
   "metadata": {},
   "source": [
    "#### Degrading magnitudes to observed LSST-like apparent magnitudes"
   ]
  },
  {
   "cell_type": "markdown",
   "metadata": {},
   "source": [
    "The final step of the pipeline involves the use of the `ObsCondition` and `LSSTErrorModel` classes implemented in `rail_astro_tools`. These classes allow us to perform the mapping from model to observed magnitudes, i.e. applying a transfer function. The output of this process is a catalog in parquet format containing LSST observed magnitudes and errors having the same consecutive indices of the input model magnitudes."
   ]
  },
  {
   "cell_type": "code",
   "execution_count": null,
   "metadata": {},
   "outputs": [],
   "source": [
    "from rail.creation.degradation.observing_condition_degrader import ObsCondition\n",
    "import numpy as np\n",
    "import pandas as pd"
   ]
  },
  {
   "cell_type": "code",
   "execution_count": null,
   "metadata": {},
   "outputs": [],
   "source": [
    "lsst_z_mags = np.empty((len(dspsphotometry.data['apparent_mags']), 7))\n",
    "lsst_z_mags[:, 0] = dspssinglesedmodel.data['redshift']\n",
    "lsst_z_mags[:, 1] = dspsphotometry.data['apparent_mags'][:,0]\n",
    "lsst_z_mags[:, 2] = dspsphotometry.data['apparent_mags'][:,1]\n",
    "lsst_z_mags[:, 3] = dspsphotometry.data['apparent_mags'][:,2]\n",
    "lsst_z_mags[:, 4] = dspsphotometry.data['apparent_mags'][:,3]\n",
    "lsst_z_mags[:, 5] = dspsphotometry.data['apparent_mags'][:,4]\n",
    "lsst_z_mags[:, 6] = dspsphotometry.data['apparent_mags'][:,5]"
   ]
  },
  {
   "cell_type": "code",
   "execution_count": null,
   "metadata": {},
   "outputs": [],
   "source": [
    "input_redshift_mags = pd.DataFrame(lsst_z_mags, columns=[\"redshift\", \"u\", \"g\", \"r\", \"i\", \"z\", \"y\"])\n",
    "data = DS.add_data(\"data\", input_redshift_mags, TableHandle, path=\"dsps_lsst_model_mags.pd\")"
   ]
  },
  {
   "cell_type": "code",
   "execution_count": null,
   "metadata": {},
   "outputs": [],
   "source": [
    "degrader = ObsCondition.make_stage()\n",
    "degraded_data = degrader(data).data"
   ]
  },
  {
   "cell_type": "code",
   "execution_count": null,
   "metadata": {},
   "outputs": [],
   "source": [
    "degraded_data"
   ]
  }
 ],
 "metadata": {
  "kernelspec": {
   "display_name": "Python 3 (ipykernel)",
   "language": "python",
   "name": "python3"
  },
  "language_info": {
   "codemirror_mode": {
    "name": "ipython",
    "version": 3
   },
   "file_extension": ".py",
   "mimetype": "text/x-python",
   "name": "python",
   "nbconvert_exporter": "python",
   "pygments_lexer": "ipython3",
   "version": "3.11.4"
  }
 },
 "nbformat": 4,
 "nbformat_minor": 1
}
